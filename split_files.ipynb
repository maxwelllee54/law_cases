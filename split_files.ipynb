{
 "cells": [
  {
   "cell_type": "code",
   "execution_count": 1,
   "metadata": {
    "collapsed": true
   },
   "outputs": [],
   "source": [
    "with open('Westlaw_Document_07_01_52.txt', 'r', encoding='utf-8', errors='ignore') as f:\n",
    "    raw = ''.join(f.readlines())"
   ]
  },
  {
   "cell_type": "code",
   "execution_count": 2,
   "metadata": {},
   "outputs": [],
   "source": [
    "import re\n",
    "files = re.split(r'END OF DOCUMENT \\n\\n 2011 Thomson Reuters. No Claim to Orig. US Gov. Works. \\n\\n\\x0c\\n'\n",
    "                 , raw)"
   ]
  },
  {
   "cell_type": "code",
   "execution_count": 3,
   "metadata": {},
   "outputs": [],
   "source": [
    "for file in files:\n",
    "\n",
    "    allText = [text.strip() for text in re.split(r'\\n+', file)]\n",
    "    try:\n",
    "        n = allText.index('v.')\n",
    "    \n",
    "        fileName = allText[n-1].split(',')[0].replace(' ', '_') \\\n",
    "                    + '_vs_' \\\n",
    "                    + allText[n+1].split(',')[0].replace(' ', '_')\\\n",
    "                    + '.txt'\n",
    "    except ValueError:\n",
    "        fileName = allText[5].split(',')[0].replace(' ', '_') + '.txt'\n",
    "    \n",
    "    with open(fileName, 'w+') as f:\n",
    "        [f.write(line+'\\n') for line in allText]"
   ]
  },
  {
   "cell_type": "code",
   "execution_count": null,
   "metadata": {},
   "outputs": [],
   "source": [
    ""
   ]
  }
 ],
 "metadata": {
  "kernelspec": {
   "display_name": "Python 2",
   "language": "python",
   "name": "python2"
  },
  "language_info": {
   "codemirror_mode": {
    "name": "ipython",
    "version": 2.0
   },
   "file_extension": ".py",
   "mimetype": "text/x-python",
   "name": "python",
   "nbconvert_exporter": "python",
   "pygments_lexer": "ipython2",
   "version": "2.7.6"
  }
 },
 "nbformat": 4,
 "nbformat_minor": 0
}
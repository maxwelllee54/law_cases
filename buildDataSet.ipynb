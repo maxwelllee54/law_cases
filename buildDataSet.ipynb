{
 "cells": [
  {
   "cell_type": "code",
   "execution_count": 1,
   "metadata": {
    "collapsed": true
   },
   "outputs": [],
   "source": [
    "import glob\n",
    "\n",
    "fileList = glob.glob('cases/*.txt')"
   ]
  },
  {
   "cell_type": "code",
   "execution_count": 6,
   "metadata": {},
   "outputs": [
    {
     "name": "stdout",
     "output_type": "stream",
     "text": [
      "Holdings: The Court of Appeals, Newman, Circuit\n\nAffirmed.\n\n"
     ]
    }
   ],
   "source": [
    "import re\n",
    "\n",
    "with open(fileList[0], 'r') as f:\n",
    "    for i in range(100):\n",
    "                \n",
    "        line = f.readline()\n",
    "        if re.match(r'^Holdings:.*', line):\n",
    "            print(line)\n",
    "        if re.match(r'^Affirmed.*|^Vacated.*|', line):\n",
    "            print(line)"
   ]
  },
  {
   "cell_type": "code",
   "execution_count": null,
   "metadata": {},
   "outputs": [],
   "source": [
    ""
   ]
  }
 ],
 "metadata": {
  "kernelspec": {
   "display_name": "Python 2",
   "language": "python",
   "name": "python2"
  },
  "language_info": {
   "codemirror_mode": {
    "name": "ipython",
    "version": 2.0
   },
   "file_extension": ".py",
   "mimetype": "text/x-python",
   "name": "python",
   "nbconvert_exporter": "python",
   "pygments_lexer": "ipython2",
   "version": "2.7.6"
  }
 },
 "nbformat": 4,
 "nbformat_minor": 0
}